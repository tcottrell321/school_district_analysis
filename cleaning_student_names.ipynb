{
 "cells": [
  {
   "cell_type": "code",
   "execution_count": 43,
   "metadata": {},
   "outputs": [
    {
     "data": {
      "text/plain": [
       "151"
      ]
     },
     "execution_count": 43,
     "metadata": {},
     "output_type": "execute_result"
    }
   ],
   "source": [
    "# Add the Pandas dependency.\n",
    "import pandas as pd\n",
    "import os\n",
    "\n",
    "# Files to load\n",
    "school_data_to_load = \"Resources\\schools_complete.csv\"\n",
    "student_data_to_load = \"Resources\\students_complete.csv\"\n",
    "\n",
    "# Alternate direct path method to load Files Into Jupyter Notebooks\n",
    "#school_data_to_load = os.path.join(\"Resources\", \"schools_complete.csv\")\n",
    "#student_data_to_load = os.path.join(\"Resources\", \"students_complete.csv\")\n",
    "\n",
    "# Read the school data file and store it in a Pandas DataFrame.\n",
    "# school_data_df = pd.read_csv(school_data_to_load)\n",
    "# school_data_df.head()\n",
    "\n",
    "student_data_df = pd.read_csv(student_data_to_load)\n",
    "\n",
    "\n",
    "# Put the student names in a list.\n",
    "# student_names = student_data_df[\"student_name\"].tolist()\n",
    "# student_names\n",
    "    \n",
    "# Create a new list and use it for the for loop to iterate through the list.\n",
    "# students_to_fix = []\n",
    "\n",
    "# Use an if statement to check the length of the name.\n",
    "# If the name is greater than or equal to \"3\", add the name to the list.\n",
    "\n",
    "#for name in student_names:\n",
    "#    if len(name.split()) >= 3:\n",
    "#       students_to_fix.append(name)\n",
    "\n",
    "# Get the length of the students whose names are greater than or equal to \"3\".\n",
    "#len(students_to_fix)\n",
    "\n",
    "# Add the prefixes less than or equal to 4 to a new list.\n",
    "#prefixes = []\n",
    "#for name in students_to_fix:\n",
    "#    if len(name.split()[0]) <= 4:\n",
    "#        prefixes.append(name.split()[0])\n",
    "\n",
    "#print(prefixes)\n",
    "\n",
    "# Add the suffixes less than or equal to 3 to a new list.\n",
    "#suffixes = []\n",
    "#for name in students_to_fix:\n",
    "#    if len(name.split()[-1]) <= 3:\n",
    "#        suffixes.append(name.split()[-1])\n",
    "\n",
    "\n",
    "# Get the unique items in the \"prefixes\" list.\n",
    "#set(prefixes) \n",
    "\n",
    "# Get the unique items in the \"suffixes\" list.\n",
    "#set(suffixes)\n",
    "\n",
    "# Add each prefix and suffix to remove to a list.\n",
    "prefixes_suffixes = [\"Dr. \", \"Mr. \",\"Ms. \", \"Mrs. \", \"Miss \", \" MD\", \" DDS\", \" DVM\", \" PhD\"]\n",
    "\n",
    "# Iterate through the words in the \"prefixes_suffixes\" list and replace them with an empty space, \"\".\n",
    "for word in prefixes_suffixes:\n",
    "    student_data_df[\"student_name\"] = student_data_df[\"student_name\"].str.replace(word,\"\")\n",
    "student_data_df.head(10)   \n",
    "\n",
    "# Replace \"Dr.\" with an empty string.\n",
    "# name = \"Dr. Linda Santiago\"\n",
    "# name.replace(\"Dr. \", \"\")\n",
    "\n",
    " # Put the cleaned students' names in another list.\n",
    "student_names = student_data_df[\"student_name\"].tolist()\n",
    "student_names \n",
    "\n",
    "# Create a new list and use it for the for loop to iterate through the list.\n",
    "students_fixed = []\n",
    "\n",
    "# Use an if statement to check the length of the name.\n",
    "\n",
    "# If the name is greater than or equal to 3, add the name to the list.\n",
    "\n",
    "for name in student_names:\n",
    "    if len(name.split()) >= 3:\n",
    "        students_fixed.append(name)\n",
    "\n",
    "# Get the length of the students' names that are greater than or equal to 3.\n",
    "len(students_fixed)\n",
    "\n"
   ]
  },
  {
   "cell_type": "code",
   "execution_count": null,
   "metadata": {},
   "outputs": [],
   "source": []
  },
  {
   "cell_type": "code",
   "execution_count": null,
   "metadata": {},
   "outputs": [],
   "source": []
  },
  {
   "cell_type": "code",
   "execution_count": null,
   "metadata": {},
   "outputs": [],
   "source": []
  },
  {
   "cell_type": "code",
   "execution_count": null,
   "metadata": {},
   "outputs": [],
   "source": []
  },
  {
   "cell_type": "code",
   "execution_count": null,
   "metadata": {},
   "outputs": [],
   "source": []
  }
 ],
 "metadata": {
  "kernelspec": {
   "display_name": "PythonData",
   "language": "python",
   "name": "pythondata"
  },
  "language_info": {
   "codemirror_mode": {
    "name": "ipython",
    "version": 3
   },
   "file_extension": ".py",
   "mimetype": "text/x-python",
   "name": "python",
   "nbconvert_exporter": "python",
   "pygments_lexer": "ipython3",
   "version": "3.7.4"
  }
 },
 "nbformat": 4,
 "nbformat_minor": 2
}
